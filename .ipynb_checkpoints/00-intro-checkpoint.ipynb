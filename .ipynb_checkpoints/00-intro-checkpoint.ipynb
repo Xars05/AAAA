{
 "cells": [
  {
   "cell_type": "markdown",
   "metadata": {},
   "source": [
    "<img src=\"img/logo.png\"/>\n",
    "\n",
    "<h1 style=\"margin: 0; padding: 0;\"><center>Club de Programación e Inteligencia Artificial</center></h1>\n",
    "\n",
    "<center>*Una inciativa de los estudiantes y egresados del Programa de Ingeniería de Sistemas de la Universidad del Magdalena*</center>\n",
    "\n",
    "<br/><br/>\n",
    "\n",
    "<center> ** === ** </center>"
   ]
  },
  {
   "cell_type": "markdown",
   "metadata": {},
   "source": [
    "<h2><center>Temas de Interés</center></h2>"
   ]
  },
  {
   "cell_type": "markdown",
   "metadata": {},
   "source": [
    "* ** Competencias integrales en pensamiento algoritmico: **\n",
    "\n",
    "    Consideramos que una base fundamental de la Ingeniería de Sistemas es la programación. Sin embargo, esta debe llevarse a cabo con un enfoque algoritmico que permita analizar los problemas y seleccionar la mejor herramienta para cada uno."
   ]
  },
  {
   "cell_type": "markdown",
   "metadata": {},
   "source": [
    "* **Python y Matlab: **\n",
    "\n",
    "    Python y Matlab han demostrado ser dos de los lenguajes de programación más potentes de la actualidad. Su popularidad en la escena científica ha llevado a la creación de centenares de paquetes para la resolución de problemas en diversos ámbitos."
   ]
  },
  {
   "cell_type": "markdown",
   "metadata": {},
   "source": [
    "* ** Inteligencia Artificial: **\n",
    "\n",
    "   Los algoritmos inteligentes forman parte de nuestro día a día y permiten resolver multitud de problemas que de otra forma serían imposibles de atacar."
   ]
  },
  {
   "cell_type": "markdown",
   "metadata": {},
   "source": [
    "<h2><center>Metodología</center></h2>\n",
    "\n",
    "* ** Clases presenciales (2 horas a la semana): **\n",
    "   \n",
    "    *Como parte de las actividades del club se incluyen clases presenciales en las que se planea abordar los temas clave de Algoritmos y avanzar hasta llegar a Inteligencia Artificial. Estas clases se dictarán haciendo uso de materiales interactivos preparados en Jupyter Notebook, con el objetivo de facilitar la integración de los aspectos teóricos y prácticos.*\n",
    "    "
   ]
  },
  {
   "cell_type": "markdown",
   "metadata": {},
   "source": [
    "* ** Talleres colaborativos (2 horas a la semana): **\n",
    "\n",
    "    *En estos talleres se tiene la intención de formar grupos en los que cada miembro del club pueda proponer su idea de trabajo y desarrollarla con la ayuda de sus compañeros. El objetivo de estas actividades es permitir a los estudiantes que tengan intereses particulares trabajar en equipo, lo que a su vez genera insumos adicionales para las futuras clases del club.*\n",
    "    "
   ]
  },
  {
   "cell_type": "markdown",
   "metadata": {},
   "source": [
    "* ** Semillero de investigación e innovación: **\n",
    "\n",
    "    *Como parte de las actividades del Club, se pretende dar el espacio a que sus miembros planteen ideas no solo como parte de los talleres colaborativos sino también como posibles proyectos de investigación e innovación. De esta forma, los alumnos podrán recibir asesorías sobre cómo orientar sus ideas y tener el respaldo del Club a la hora de presentarlas ante las dependencias pertinentes, así como en los eventos que organiza la Universidad. *\n",
    "    "
   ]
  },
  {
   "cell_type": "markdown",
   "metadata": {},
   "source": [
    "* ** Espacios de discusión y repositorios en línea: **\n",
    "\n",
    "    *Se pretende administrar grupos de discusión en redes sociales, como Facebook, donde los miembros del club puedan publicar dudas, proponer ideas y compartir materiales. Asímismo, todos los  materiales serán publicados en un repositorio de GitHub al que la comunidad universitaria tendrá total acceso.*\n",
    "    "
   ]
  },
  {
   "cell_type": "markdown",
   "metadata": {},
   "source": [
    "\n",
    "\n",
    "<h2><center>Temas Centrales</center></h2>\n",
    "\n",
    "Son los temas que forman el núcleo del club, y que serán tratados de forma consistente en las clases presenciales.\n",
    "\n",
    "* **Desarrollo de competencias integrales en pensamiento algoritmico I:** \n",
    "\n",
    "    * Variables y tipos de datos.\n",
    "    * Operaciones de entrada y visualización de datos.\n",
    "    * Operaciones matemáticas.\n",
    "    * Estructuras de datos I: listas, arreglos.\n",
    "    * Programación estructurada: condiciones, ciclos.\n",
    "    * Programación recursiva.\n",
    "    * Lectura y escritura de archivos de texto plano.\n",
    "    * Interpretación de problemas, aplicación de soluciones algoritmicas I."
   ]
  },
  {
   "cell_type": "markdown",
   "metadata": {},
   "source": [
    "* **Repaso de matemática básica para ingeniería de sistemas: ** \n",
    "    * Conceptos básicos de funciones.\n",
    "    * Lógica booleana.\n",
    "    * Teoría de conjuntos.\n",
    "    * Algebra lineal básica.\n",
    "\n",
    "    "
   ]
  },
  {
   "cell_type": "markdown",
   "metadata": {},
   "source": [
    "* **Desarrollo de competencias integrales en pensamiento algoritmico II:**\n",
    "    * Funciones.\n",
    "    * Operaciones con conjuntos.\n",
    "    * Funciones anónimas o lambda.\n",
    "    * Mapeo, filtros y reducción.\n",
    "    * Estructuras de datos II: Pilas, colas, arboles.\n",
    "    * Introducción a la complejidad computacional.\n",
    "    * Algoritmos de ordenamiento.\n",
    "    * Interpretación de problemas, aplicación de soluciones algoritmicas II.\n",
    "    "
   ]
  },
  {
   "cell_type": "markdown",
   "metadata": {},
   "source": [
    "* **Inteligencia Artificial: Problemas de búsqueda **\n",
    "   \n",
    "    * Algoritmos de búsqueda.\n",
    "    * Algoritmos de búsqueda con heurística.\n",
    "    * Algoritmos de búsqueda con componente aleatorio.\n",
    "    * Algoritmos de búsqueda biológicamente inspirados.\n"
   ]
  },
  {
   "cell_type": "markdown",
   "metadata": {},
   "source": [
    "* **Técnicas avanzadas para el diseño de algoritmos: **\n",
    "\n",
    "    * Introducción a la programación competitiva.\n",
    "    * Complejidad computacional.\n",
    "    * Algoritmos vóraces y búsqueda exhaustiva.\n",
    "    * Divide y vencerás.\n",
    "    * Programación dinámica.\n",
    "    * Grafos."
   ]
  },
  {
   "cell_type": "markdown",
   "metadata": {},
   "source": [
    "* **Inteligencia Artificial: Aprendizaje de Máquinas I **\n",
    "    * Repaso: probabilidad.\n",
    "    * La línea base: aproximaciones ingenuas.\n",
    "    * Datos númericos y categóricos.\n",
    "    * Los distintos problemas del aprendizaje de máquina.\n",
    "    * One-R.\n",
    "    * K-Vecinos cercanos.\n",
    "    * Regresión lineal.\n",
    "    "
   ]
  },
  {
   "cell_type": "markdown",
   "metadata": {},
   "source": [
    "* **Inteligencia Artificial: Aprendizaje de Máquinas II **\n",
    "    * Preprocesamiento de datos.    \n",
    "    * Validación de modelos.\n",
    "    * Regresión logística.\n",
    "    * Inferencia bayesiana.\n",
    "    * Recomendación a priori.\n",
    "    * K-Means.\n",
    "    * Árboles y bósques de clasificación."
   ]
  },
  {
   "cell_type": "markdown",
   "metadata": {},
   "source": [
    "    \n",
    "* **Inteligencia Artificial: Aprendizaje de Máquinas III **\n",
    "    * Máquinas de vector de soporte.\n",
    "    * Redes neuronales artificiales.\n",
    "    * Deep learning."
   ]
  },
  {
   "cell_type": "markdown",
   "metadata": {},
   "source": [
    "<h2><center>Temas Adicionales</center></h2>\n",
    "\n",
    "Son temas para los que se pretende preparar material con base en los talleres colaborativos, y que pueden \n",
    "ser integrados en las temáticas núcleo dependiendo del interés de los miembros del grupo.\n",
    "\n",
    "* ** Aplicaciones específicas: **\n",
    "    \n",
    "    * Formateo de texto con la librería estándar de Python <sup>1</sup>.\n",
    "    * Manipulación de cadenas de texto con la librería estándar de Python <sup>1</sup>.\n",
    "    * Lectura y manipulación de archivos de distintos formatos con la librería estándar de Python <sup>1</sup>.\n",
    "    * Expresiones regulares para la manipulación de cadenas de texto <sup>3</sup>.    \n",
    "    * Vectorización de diferentes estructuras de datos <sup>1,</sup><sup>2</sup>.\n",
    "    * Computación matemática con Numpy <sup>1</sup> y librería estándar de Matlab <sup>2</sup>.\n",
    "    * La librería Pandas para manejo de conjuntos de datos <sup>1</sup>.\n",
    "    * Graficación con matplotlib y seaborn para Python<sup>1</sup>, librería estándar de Matlab <sup>2</sup>.\n",
    "  \n",
    "&nbsp;&nbsp;&nbsp;&nbsp;&nbsp;&nbsp; <small> 1: Contenidos dictados en Python. </small><br/>\n",
    "&nbsp;&nbsp;&nbsp;&nbsp;&nbsp;&nbsp;<small> 2: Contenidos dictados en Matlab. </small><br/>\n",
    "&nbsp;&nbsp;&nbsp;&nbsp;&nbsp;&nbsp;<small> 3: Contenidos de índole general. </small></br>"
   ]
  },
  {
   "cell_type": "markdown",
   "metadata": {},
   "source": [
    "* ** Cálculo y estadística desde la perspectiva de la Ingeniería de Sistemas: **\n",
    "\n",
    "    * Derivadas.\n",
    "    * Regla de la cadena.\n",
    "    * Gradientes.\n",
    "    * Probabilidad.\n",
    "    * Estadística.\n",
    "    * Análisis Numérico.\n",
    "    * Señales.\n",
    "    * Transformadas."
   ]
  },
  {
   "cell_type": "markdown",
   "metadata": {},
   "source": [
    "* ** Procesamiento de Señales I: Audio: **\n",
    "    * Captura de audio.\n",
    "    * Análisis en Frecuencias.\n",
    "    * Operaciones Matemáticas.\n",
    "    * Diseño y aplicación de filtros."
   ]
  },
  {
   "cell_type": "markdown",
   "metadata": {},
   "source": [
    "* ** Procesamiento de Señales II: Imágenes: **\n",
    "    * Lectura y representación de Imágenes.\n",
    "    * Pixelamiento de una imagen.\n",
    "    * Operaciones sobre una imagen.\n",
    "    * Captura de Imágenes.\n",
    "    * Detección de bordes de una imagen.\n",
    "    * Conteo y etiquetado de objetos.        \n",
    "    * Reconocimiento Óptico de Caracteres.\n",
    "    * Procesamiento digital de video."
   ]
  },
  {
   "cell_type": "markdown",
   "metadata": {},
   "source": [
    "<h2><center>Software Requerido</center></h2>\n",
    "\n",
    "\n",
    "* Python\n",
    "    * Parte de los sistemas operativos macOS y Linux.\n",
    "    * Python Software Foundation (https://www.python.org)\n",
    "    * Enthought Canopy (https://www.enthought.com)\n",
    "    * Anaconda (https://www.continuum.io)\n",
    "    "
   ]
  },
  {
   "cell_type": "markdown",
   "metadata": {},
   "source": [
    "* Jupyter Notebook\n",
    "    * Método dinamico para la creación y aprendizaje de programacion con python\n",
    "  "
   ]
  },
  {
   "cell_type": "markdown",
   "metadata": {},
   "source": [
    "* Matlab\n",
    "    * Software matématico de gran potencial para la solución de problemas complejos"
   ]
  },
  {
   "cell_type": "markdown",
   "metadata": {
    "collapsed": true
   },
   "source": [
    "<h2><center>Hardware Requerido</center></h2>\n",
    "\n",
    "Debido al énfasis teoricopráctico del Club, no es posible llevar a cabo las actividades sin los espacios adecuados. La mayoria de estudiantes del programa no tienen acceso a equipos necesarios para las actividades.  \n",
    "Por esta razón se solicitará a la dirección de programa acceso a la sala de Sistemas Operativos, el cual es el único laboratorio del programa con el sistema operativo linux en sus equipos."
   ]
  },
  {
   "cell_type": "code",
   "execution_count": null,
   "metadata": {
    "collapsed": true
   },
   "outputs": [],
   "source": []
  }
 ],
 "metadata": {
  "kernelspec": {
   "display_name": "Python 3",
   "language": "python",
   "name": "python3"
  },
  "language_info": {
   "codemirror_mode": {
    "name": "ipython",
    "version": 3
   },
   "file_extension": ".py",
   "mimetype": "text/x-python",
   "name": "python",
   "nbconvert_exporter": "python",
   "pygments_lexer": "ipython3",
   "version": "3.6.4"
  }
 },
 "nbformat": 4,
 "nbformat_minor": 2
}
